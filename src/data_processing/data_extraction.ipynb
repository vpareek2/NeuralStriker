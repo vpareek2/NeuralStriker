{
 "cells": [
  {
   "cell_type": "code",
   "execution_count": 1,
   "metadata": {},
   "outputs": [],
   "source": [
    "# imports\n",
    "import pandas as pd\n",
    "import os"
   ]
  },
  {
   "cell_type": "markdown",
   "metadata": {},
   "source": [
    "#### **There are teams in the UCL that are in one of the top 5 European Leagues (LaLiga - Spain, Premier League - England, Bundesliga - Germany, Serie A - Italy, Ligue 1 - French)**\n",
    "\n",
    "Conveniently, the teams from the top 5 are stored together, but the rest of the teams are not. This notebook will be used to extract all the data needed."
   ]
  },
  {
   "cell_type": "code",
   "execution_count": 10,
   "metadata": {},
   "outputs": [],
   "source": [
    "# Top 5 European Leagues scraping\n",
    "\n",
    "# Load data from the URLs\n",
    "df_big5_2022_list = pd.read_html('https://fbref.com/en/comps/Big5/2022-2023/stats/players/2022-2023-Big-5-European-Leagues-Stats')\n",
    "df_big5_2023_list = pd.read_html('https://fbref.com/en/comps/Big5/stats/players/Big-5-European-Leagues-Stats')\n",
    "\n",
    "# I need the first table from each page\n",
    "df_big5_2022 = df_big5_2022_list[0]\n",
    "df_big5_2023 = df_big5_2023_list[0]\n",
    "\n",
    "# If the DataFrame has multi-level columns, you'd want to drop levels. Ensure you're reassigning the DataFrame to preserve the change.\n",
    "if isinstance(df_big5_2022.columns, pd.MultiIndex):\n",
    "    df_big5_2022.columns = df_big5_2022.columns.droplevel(0)\n",
    "\n",
    "if isinstance(df_big5_2023.columns, pd.MultiIndex):\n",
    "    df_big5_2023.columns = df_big5_2023.columns.droplevel(0)\n",
    "\n",
    "# Save the DataFrames to CSV\n",
    "df_big5_2022.to_csv('../data/raw/big5_2022.csv', index=False)\n",
    "df_big5_2023.to_csv('../data/raw/big5_2023.csv', index=False)\n"
   ]
  },
  {
   "cell_type": "code",
   "execution_count": 7,
   "metadata": {},
   "outputs": [],
   "source": [
    "# Getting all the data from the other leagues\n",
    "\n",
    "# List of URLs to scrape\n",
    "urls2022 = [\n",
    "    'https://fbref.com/en/squads/a77c513e/2022-2023/Benfica-Stats',\n",
    "    'https://fbref.com/en/squads/5e876ee6/2022-2023/Porto-Stats#all_stats_standard',\n",
    "    'https://fbref.com/en/squads/e334d850/2022-2023/PSV-Eindhoven-Stats#all_stats_standard',\n",
    "    'https://fbref.com/en/squads/69d84c29/2022-2023/Braga-Stats#all_stats_standard',\n",
    "    'https://fbref.com/en/squads/fb4ca611/2022-2023/Feyenoord-Stats',\n",
    "    'https://fbref.com/en/squads/c2e6b53b/2022-2023/Antwerp-Stats',\n",
    "    'https://fbref.com/en/squads/ecd11ca2/2022-2023/Galatasaray-Stats#all_stats_standard',\n",
    "    'https://fbref.com/en/squads/18050b20/2022-2023/FC-Copenhagen-Stats#all_stats_standard',\n",
    "    'https://fbref.com/en/squads/50f2a074/2022-2023/Red-Bull-Salzburg-Stats#all_stats_standard',\n",
    "    'https://fbref.com/en/squads/b81aa4fa/2022-2023/Celtic-Stats#all_stats_standard',\n",
    "    'https://fbref.com/en/squads/099c6eb5/2022-2023/Red-Star-Belgrade-Stats#all_stats_standard',\n",
    "    'https://fbref.com/en/squads/4b682260/Young-Boys-Stats#all_stats_standard',\n",
    "    'https://fbref.com/en/squads/e89d5a28/2022-2023/Shakhtar-Donetsk-Stats#all_stats_standard'\n",
    "]\n",
    "\n",
    "urls2023 = [\n",
    "    'https://fbref.com/en/squads/a77c513e/Benfica-Stats#all_stats_standard',\n",
    "    'https://fbref.com/en/squads/5e876ee6/Porto-Stats#all_stats_standard',\n",
    "    'https://fbref.com/en/squads/e334d850/PSV-Eindhoven-Stats#all_stats_standard',\n",
    "    'https://fbref.com/en/squads/69d84c29/Braga-Stats#all_stats_standard',\n",
    "    'https://fbref.com/en/squads/fb4ca611/Feyenoord-Stats#all_stats_standard',\n",
    "    'https://fbref.com/en/squads/c2e6b53b/Antwerp-Stats#all_stats_standard',\n",
    "    'https://fbref.com/en/squads/ecd11ca2/Galatasaray-Stats',\n",
    "    'https://fbref.com/en/squads/18050b20/FC-Copenhagen-Stats',\n",
    "    'https://fbref.com/en/squads/50f2a074/Red-Bull-Salzburg-Stats',\n",
    "    'https://fbref.com/en/squads/b81aa4fa/Celtic-Stats',\n",
    "    'https://fbref.com/en/squads/099c6eb5/Red-Star-Belgrade-Stats',\n",
    "    'https://fbref.com/en/squads/4b682260/Young-Boys-Stats',\n",
    "    'https://fbref.com/en/squads/e89d5a28/Shakhtar-Donetsk-Stats',\n",
    "]\n"
   ]
  },
  {
   "cell_type": "code",
   "execution_count": 8,
   "metadata": {},
   "outputs": [],
   "source": [
    "# Creating 2 functions to fetch and save the data from fbref\n",
    "\n",
    "def fetch_and_save_table(url, file_path):\n",
    "    \"\"\"\n",
    "    Fetches the first table from the given URL and saves it as a CSV file.\n",
    "\n",
    "    Parameters:\n",
    "    url (str): The URL to fetch the table from.\n",
    "    file_path (str): The path where the CSV file will be saved.\n",
    "\n",
    "    Returns:\n",
    "    None\n",
    "    \"\"\"\n",
    "\n",
    "    try:\n",
    "        tables = pd.read_html(url)\n",
    "\n",
    "        if not tables:\n",
    "            print(f\"No tables found at {url}\")\n",
    "            return\n",
    "\n",
    "        df = tables[0]\n",
    "\n",
    "        if isinstance(df.columns, pd.MultiIndex):\n",
    "            df.columns = df.columns.droplevel(0)\n",
    "\n",
    "        os.makedirs(os.path.dirname(file_path), exist_ok=True)\n",
    "        df.to_csv(file_path, index=False)\n",
    "        print(f\"Data saved to {file_path}\")\n",
    "\n",
    "    except Exception as e:\n",
    "        print(f\"An error occurred: {e}\")\n",
    "\n",
    "def process_url_list(url_list, directory_path):\n",
    "    \"\"\"\n",
    "    Process a list of URLs to fetch the first table from each URL and save each as a CSV file.\n",
    "\n",
    "    Parameters:\n",
    "    url_list (list): The list of URLs to process.\n",
    "    directory_path (str): The base directory where the CSV files will be saved.\n",
    "\n",
    "    Returns:\n",
    "    None\n",
    "    \"\"\"\n",
    "\n",
    "    for i, url in enumerate(url_list, start=1):\n",
    "        file_name = f\"other_{i}.csv\" \n",
    "        file_path = os.path.join(directory_path, file_name)\n",
    "        fetch_and_save_table(url, file_path)"
   ]
  },
  {
   "cell_type": "code",
   "execution_count": 9,
   "metadata": {},
   "outputs": [
    {
     "name": "stdout",
     "output_type": "stream",
     "text": [
      "Data saved to ../data/raw/2023/other_1.csv\n",
      "Data saved to ../data/raw/2023/other_2.csv\n",
      "Data saved to ../data/raw/2023/other_3.csv\n",
      "Data saved to ../data/raw/2023/other_4.csv\n",
      "Data saved to ../data/raw/2023/other_5.csv\n",
      "Data saved to ../data/raw/2023/other_6.csv\n",
      "Data saved to ../data/raw/2023/other_7.csv\n",
      "Data saved to ../data/raw/2023/other_8.csv\n",
      "Data saved to ../data/raw/2023/other_9.csv\n",
      "Data saved to ../data/raw/2023/other_10.csv\n",
      "Data saved to ../data/raw/2023/other_11.csv\n",
      "Data saved to ../data/raw/2023/other_12.csv\n",
      "Data saved to ../data/raw/2023/other_13.csv\n"
     ]
    }
   ],
   "source": [
    "# Process the list of URLs using the functions above\n",
    "#process_url_list(urls2022, '../data/raw/2022/')\n",
    "process_url_list(urls2023, '../data/raw/2023/')\n",
    "\n",
    "\n",
    "# I am going to manually rename the files to match the team names"
   ]
  }
 ],
 "metadata": {
  "kernelspec": {
   "display_name": "Python 3",
   "language": "python",
   "name": "python3"
  },
  "language_info": {
   "codemirror_mode": {
    "name": "ipython",
    "version": 3
   },
   "file_extension": ".py",
   "mimetype": "text/x-python",
   "name": "python",
   "nbconvert_exporter": "python",
   "pygments_lexer": "ipython3",
   "version": "3.9.6"
  }
 },
 "nbformat": 4,
 "nbformat_minor": 2
}
