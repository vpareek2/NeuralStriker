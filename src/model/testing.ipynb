{
 "cells": [
  {
   "cell_type": "code",
   "execution_count": 14,
   "metadata": {},
   "outputs": [],
   "source": [
    "import pandas as pd\n",
    "import numpy as np\n",
    "import tensorflow as tf\n",
    "import matplotlib.pyplot as plt\n",
    "\n",
    "\n",
    "from sklearn.model_selection import train_test_split\n",
    "from tensorflow.keras.models import Sequential\n",
    "from tensorflow.keras.layers import Dense\n",
    "from tensorflow.keras.optimizers.legacy import Adam\n"
   ]
  },
  {
   "cell_type": "code",
   "execution_count": 15,
   "metadata": {},
   "outputs": [
    {
     "data": {
      "text/html": [
       "<div>\n",
       "<style scoped>\n",
       "    .dataframe tbody tr th:only-of-type {\n",
       "        vertical-align: middle;\n",
       "    }\n",
       "\n",
       "    .dataframe tbody tr th {\n",
       "        vertical-align: top;\n",
       "    }\n",
       "\n",
       "    .dataframe thead th {\n",
       "        text-align: right;\n",
       "    }\n",
       "</style>\n",
       "<table border=\"1\" class=\"dataframe\">\n",
       "  <thead>\n",
       "    <tr style=\"text-align: right;\">\n",
       "      <th></th>\n",
       "      <th>player_id</th>\n",
       "      <th>Player</th>\n",
       "      <th>Nation</th>\n",
       "      <th>Pos</th>\n",
       "      <th>Squad</th>\n",
       "      <th>Comp</th>\n",
       "      <th>Age</th>\n",
       "      <th>Gls</th>\n",
       "      <th>Ast</th>\n",
       "      <th>G+A</th>\n",
       "      <th>G-PK</th>\n",
       "      <th>G+A-PK</th>\n",
       "      <th>xG</th>\n",
       "      <th>xAG</th>\n",
       "      <th>xG+xAG</th>\n",
       "      <th>npxG</th>\n",
       "      <th>npxG+xAG</th>\n",
       "    </tr>\n",
       "  </thead>\n",
       "  <tbody>\n",
       "    <tr>\n",
       "      <th>0</th>\n",
       "      <td>1000</td>\n",
       "      <td>Salis Abdul Samed</td>\n",
       "      <td>GHA</td>\n",
       "      <td>MF</td>\n",
       "      <td>Lens</td>\n",
       "      <td>Ligue 1</td>\n",
       "      <td>22</td>\n",
       "      <td>0.03</td>\n",
       "      <td>0.03</td>\n",
       "      <td>0.06</td>\n",
       "      <td>0.03</td>\n",
       "      <td>0.06</td>\n",
       "      <td>0.03</td>\n",
       "      <td>0.05</td>\n",
       "      <td>0.08</td>\n",
       "      <td>0.03</td>\n",
       "      <td>0.08</td>\n",
       "    </tr>\n",
       "    <tr>\n",
       "      <th>1</th>\n",
       "      <td>1001</td>\n",
       "      <td>Francesco Acerbi</td>\n",
       "      <td>ITA</td>\n",
       "      <td>DF</td>\n",
       "      <td>Inter</td>\n",
       "      <td>Serie A</td>\n",
       "      <td>34</td>\n",
       "      <td>0.00</td>\n",
       "      <td>0.07</td>\n",
       "      <td>0.07</td>\n",
       "      <td>0.00</td>\n",
       "      <td>0.07</td>\n",
       "      <td>0.04</td>\n",
       "      <td>0.04</td>\n",
       "      <td>0.08</td>\n",
       "      <td>0.04</td>\n",
       "      <td>0.08</td>\n",
       "    </tr>\n",
       "    <tr>\n",
       "      <th>2</th>\n",
       "      <td>1002</td>\n",
       "      <td>Marcos Acuña</td>\n",
       "      <td>ARG</td>\n",
       "      <td>DF</td>\n",
       "      <td>Sevilla</td>\n",
       "      <td>La Liga</td>\n",
       "      <td>30</td>\n",
       "      <td>0.14</td>\n",
       "      <td>0.09</td>\n",
       "      <td>0.24</td>\n",
       "      <td>0.14</td>\n",
       "      <td>0.24</td>\n",
       "      <td>0.05</td>\n",
       "      <td>0.20</td>\n",
       "      <td>0.26</td>\n",
       "      <td>0.05</td>\n",
       "      <td>0.26</td>\n",
       "    </tr>\n",
       "    <tr>\n",
       "      <th>3</th>\n",
       "      <td>1003</td>\n",
       "      <td>Karim Adeyemi</td>\n",
       "      <td>GER</td>\n",
       "      <td>FW,MF</td>\n",
       "      <td>Dortmund</td>\n",
       "      <td>Bundesliga</td>\n",
       "      <td>20</td>\n",
       "      <td>0.39</td>\n",
       "      <td>0.32</td>\n",
       "      <td>0.71</td>\n",
       "      <td>0.39</td>\n",
       "      <td>0.71</td>\n",
       "      <td>0.33</td>\n",
       "      <td>0.24</td>\n",
       "      <td>0.57</td>\n",
       "      <td>0.28</td>\n",
       "      <td>0.52</td>\n",
       "    </tr>\n",
       "    <tr>\n",
       "      <th>4</th>\n",
       "      <td>1004</td>\n",
       "      <td>Yacine Adli</td>\n",
       "      <td>FRA</td>\n",
       "      <td>MF,FW</td>\n",
       "      <td>Milan</td>\n",
       "      <td>Serie A</td>\n",
       "      <td>22</td>\n",
       "      <td>0.00</td>\n",
       "      <td>0.00</td>\n",
       "      <td>0.00</td>\n",
       "      <td>0.00</td>\n",
       "      <td>0.00</td>\n",
       "      <td>0.05</td>\n",
       "      <td>0.16</td>\n",
       "      <td>0.22</td>\n",
       "      <td>0.05</td>\n",
       "      <td>0.22</td>\n",
       "    </tr>\n",
       "  </tbody>\n",
       "</table>\n",
       "</div>"
      ],
      "text/plain": [
       "   player_id             Player Nation    Pos     Squad        Comp Age   Gls  \\\n",
       "0       1000  Salis Abdul Samed    GHA     MF      Lens     Ligue 1  22  0.03   \n",
       "1       1001   Francesco Acerbi    ITA     DF     Inter     Serie A  34  0.00   \n",
       "2       1002       Marcos Acuña    ARG     DF   Sevilla     La Liga  30  0.14   \n",
       "3       1003      Karim Adeyemi    GER  FW,MF  Dortmund  Bundesliga  20  0.39   \n",
       "4       1004        Yacine Adli    FRA  MF,FW     Milan     Serie A  22  0.00   \n",
       "\n",
       "    Ast   G+A  G-PK  G+A-PK    xG   xAG  xG+xAG  npxG  npxG+xAG  \n",
       "0  0.03  0.06  0.03    0.06  0.03  0.05    0.08  0.03      0.08  \n",
       "1  0.07  0.07  0.00    0.07  0.04  0.04    0.08  0.04      0.08  \n",
       "2  0.09  0.24  0.14    0.24  0.05  0.20    0.26  0.05      0.26  \n",
       "3  0.32  0.71  0.39    0.71  0.33  0.24    0.57  0.28      0.52  \n",
       "4  0.00  0.00  0.00    0.00  0.05  0.16    0.22  0.05      0.22  "
      ]
     },
     "execution_count": 15,
     "metadata": {},
     "output_type": "execute_result"
    }
   ],
   "source": [
    "df = pd.read_csv('../../data/final/2022.csv').drop(columns=['Unnamed: 0'])\n",
    "df.head()\n",
    "\n"
   ]
  },
  {
   "cell_type": "code",
   "execution_count": 16,
   "metadata": {},
   "outputs": [
    {
     "name": "stdout",
     "output_type": "stream",
     "text": [
      "(926, 5) (926,)\n"
     ]
    }
   ],
   "source": [
    "reference_data = ['player_id', 'Player', 'Nation', 'Pos', 'Squad', 'Comp', 'Age']\n",
    "X = df.drop(columns=['player_id', 'Player', 'Nation', 'Pos', 'Squad', 'Comp', 'Age', 'Gls', 'Ast', 'xAG', 'npxG+xAG', 'npxG'])\n",
    "y = df['Gls']\n",
    "print(X.shape, y.shape)"
   ]
  },
  {
   "cell_type": "code",
   "execution_count": 17,
   "metadata": {},
   "outputs": [
    {
     "name": "stdout",
     "output_type": "stream",
     "text": [
      "X_train.shape: (740, 5) X_cv.shape: (93, 5) X_test.shape: (93, 5)\n",
      "y_train.shape: (740,) y_cv.shape: (93,) y_test.shape: (93,)\n"
     ]
    }
   ],
   "source": [
    "# Splitting the data, 80% train, 10% cross-validation, 10% test\n",
    "X_train, X_temp, y_train, y_temp = train_test_split(X, y, test_size=0.20, random_state=1)\n",
    "X_cv, X_test, y_cv, y_test = train_test_split(X_temp, y_temp, test_size=0.5, random_state=1)\n",
    "print(\"X_train.shape:\", X_train.shape, \"X_cv.shape:\", X_cv.shape, \"X_test.shape:\", X_test.shape)\n",
    "print(\"y_train.shape:\",y_train.shape, \"y_cv.shape:\", y_cv.shape, \"y_test.shape:\", y_test.shape)"
   ]
  },
  {
   "cell_type": "code",
   "execution_count": 18,
   "metadata": {},
   "outputs": [
    {
     "name": "stdout",
     "output_type": "stream",
     "text": [
      "[[0.17756179 0.09147105 0.17051736 0.11033977 0.18523744]]\n",
      "First example: [[1.06 0.1  1.06 0.18 0.64]]\n",
      "\n",
      "Normalized: [[2.67 0.05 2.76 0.32 1.68]]\n"
     ]
    }
   ],
   "source": [
    "normalizer = tf.keras.layers.Normalization(input_shape=[X_train.shape[1],])\n",
    "normalizer.adapt(np.array(X_train))\n",
    "print(normalizer.mean.numpy())\n",
    "\n",
    "first = np.array(X_train[:1])\n",
    "\n",
    "with np.printoptions(precision=2, suppress=True):\n",
    "  print('First example:', first)\n",
    "  print()\n",
    "  print('Normalized:', normalizer(first).numpy())"
   ]
  },
  {
   "cell_type": "code",
   "execution_count": 19,
   "metadata": {},
   "outputs": [],
   "source": [
    "model = Sequential([\n",
    "    Dense(128, activation='relu', input_shape=(X_train.shape[1],)),\n",
    "    Dense(64, activation='relu'),\n",
    "    Dense(1, activation='linear')\n",
    "])"
   ]
  },
  {
   "cell_type": "code",
   "execution_count": 20,
   "metadata": {},
   "outputs": [],
   "source": [
    "optimizer = tf.keras.optimizers.legacy.Adam(learning_rate=1e-3)\n",
    "\n",
    "model.compile(optimizer=optimizer, \n",
    "              loss='mean_squared_error',\n",
    "              metrics=['mean_absolute_error'])"
   ]
  },
  {
   "cell_type": "code",
   "execution_count": 21,
   "metadata": {},
   "outputs": [
    {
     "name": "stdout",
     "output_type": "stream",
     "text": [
      "Epoch 1/18\n",
      "24/24 [==============================] - 0s 4ms/step - loss: 0.0104 - mean_absolute_error: 0.0463 - val_loss: 0.0018 - val_mean_absolute_error: 0.0268\n",
      "Epoch 2/18\n",
      "24/24 [==============================] - 0s 1ms/step - loss: 0.0031 - mean_absolute_error: 0.0275 - val_loss: 5.1659e-04 - val_mean_absolute_error: 0.0104\n",
      "Epoch 3/18\n",
      "24/24 [==============================] - 0s 1ms/step - loss: 0.0014 - mean_absolute_error: 0.0178 - val_loss: 4.3146e-04 - val_mean_absolute_error: 0.0157\n",
      "Epoch 4/18\n",
      "24/24 [==============================] - 0s 998us/step - loss: 0.0013 - mean_absolute_error: 0.0183 - val_loss: 7.6483e-04 - val_mean_absolute_error: 0.0197\n",
      "Epoch 5/18\n",
      "24/24 [==============================] - 0s 1ms/step - loss: 0.0012 - mean_absolute_error: 0.0200 - val_loss: 2.0034e-04 - val_mean_absolute_error: 0.0080\n",
      "Epoch 6/18\n",
      "24/24 [==============================] - 0s 981us/step - loss: 9.8194e-04 - mean_absolute_error: 0.0155 - val_loss: 3.5415e-04 - val_mean_absolute_error: 0.0102\n",
      "Epoch 7/18\n",
      "24/24 [==============================] - 0s 979us/step - loss: 8.3142e-04 - mean_absolute_error: 0.0135 - val_loss: 2.0693e-04 - val_mean_absolute_error: 0.0079\n",
      "Epoch 8/18\n",
      "24/24 [==============================] - 0s 971us/step - loss: 7.2084e-04 - mean_absolute_error: 0.0128 - val_loss: 3.8808e-04 - val_mean_absolute_error: 0.0123\n",
      "Epoch 9/18\n",
      "24/24 [==============================] - 0s 1ms/step - loss: 7.7123e-04 - mean_absolute_error: 0.0142 - val_loss: 1.9135e-04 - val_mean_absolute_error: 0.0066\n",
      "Epoch 10/18\n",
      "24/24 [==============================] - 0s 1000us/step - loss: 7.3914e-04 - mean_absolute_error: 0.0167 - val_loss: 4.2979e-04 - val_mean_absolute_error: 0.0157\n",
      "Epoch 11/18\n",
      "24/24 [==============================] - 0s 996us/step - loss: 6.1453e-04 - mean_absolute_error: 0.0126 - val_loss: 1.2458e-04 - val_mean_absolute_error: 0.0063\n",
      "Epoch 12/18\n",
      "24/24 [==============================] - 0s 1ms/step - loss: 4.9280e-04 - mean_absolute_error: 0.0110 - val_loss: 1.1573e-04 - val_mean_absolute_error: 0.0062\n",
      "Epoch 13/18\n",
      "24/24 [==============================] - 0s 996us/step - loss: 4.5928e-04 - mean_absolute_error: 0.0111 - val_loss: 4.2301e-04 - val_mean_absolute_error: 0.0185\n",
      "Epoch 14/18\n",
      "24/24 [==============================] - 0s 1ms/step - loss: 5.7395e-04 - mean_absolute_error: 0.0123 - val_loss: 1.9993e-04 - val_mean_absolute_error: 0.0091\n",
      "Epoch 15/18\n",
      "24/24 [==============================] - 0s 1ms/step - loss: 3.2274e-04 - mean_absolute_error: 0.0092 - val_loss: 8.1070e-05 - val_mean_absolute_error: 0.0052\n",
      "Epoch 16/18\n",
      "24/24 [==============================] - 0s 1ms/step - loss: 2.2613e-04 - mean_absolute_error: 0.0068 - val_loss: 9.1422e-05 - val_mean_absolute_error: 0.0060\n",
      "Epoch 17/18\n",
      "24/24 [==============================] - 0s 1ms/step - loss: 2.2638e-04 - mean_absolute_error: 0.0071 - val_loss: 7.0546e-05 - val_mean_absolute_error: 0.0046\n",
      "Epoch 18/18\n",
      "24/24 [==============================] - 0s 991us/step - loss: 2.4578e-04 - mean_absolute_error: 0.0067 - val_loss: 1.6179e-04 - val_mean_absolute_error: 0.0070\n"
     ]
    }
   ],
   "source": [
    "early_stop = tf.keras.callbacks.EarlyStopping(monitor='val_loss', patience=10)\n",
    "history = model.fit(X_train, y_train, epochs=18, validation_data=(X_cv, y_cv), callbacks=[early_stop])\n"
   ]
  },
  {
   "cell_type": "code",
   "execution_count": 22,
   "metadata": {},
   "outputs": [
    {
     "name": "stdout",
     "output_type": "stream",
     "text": [
      "3/3 [==============================] - 0s 1ms/step - loss: 0.0019 - mean_absolute_error: 0.0131\n",
      "Test loss: 0.0019371105590835214\n",
      "Test MAE: 0.013091507367789745\n"
     ]
    }
   ],
   "source": [
    "loss, mae = model.evaluate(X_test, y_test)\n",
    "print('Test loss:', loss)\n",
    "print('Test MAE:', mae)\n"
   ]
  },
  {
   "cell_type": "code",
   "execution_count": 23,
   "metadata": {},
   "outputs": [
    {
     "data": {
      "image/png": "[encoded data removed]",
      "text/plain": [
       "<Figure size 1200x600 with 1 Axes>"
      ]
     },
     "metadata": {},
     "output_type": "display_data"
    }
   ],
   "source": [
    "\n",
    "plt.figure(figsize=(12, 6))\n",
    "plt.plot(history.history['loss'], label='Training Loss')\n",
    "plt.plot(history.history['val_loss'], label='Validation Loss')\n",
    "plt.title('Training and Validation Loss')\n",
    "plt.xlabel('Epoch')\n",
    "plt.ylabel('Mean Squared Error')\n",
    "plt.legend()\n",
    "plt.grid(True)\n",
    "plt.show()\n"
   ]
  },
  {
   "cell_type": "code",
   "execution_count": 24,
   "metadata": {},
   "outputs": [
    {
     "name": "stdout",
     "output_type": "stream",
     "text": [
      "3/3 [==============================] - 0s 796us/step\n"
     ]
    }
   ],
   "source": [
    "predictions = model.predict(X_test)\n"
   ]
  },
  {
   "cell_type": "code",
   "execution_count": 25,
   "metadata": {},
   "outputs": [
    {
     "name": "stderr",
     "output_type": "stream",
     "text": [
      "/Users/veer/Library/Python/3.9/lib/python/site-packages/keras/src/engine/training.py:3079: UserWarning: You are saving your model as an HDF5 file via `model.save()`. This file format is considered legacy. We recommend using instead the native Keras format, e.g. `model.save('my_model.keras')`.\n",
      "  saving_api.save_model(\n"
     ]
    }
   ],
   "source": [
    "# Save model\n",
    "model.save('model.h5')"
   ]
  },
  {
   "cell_type": "code",
   "execution_count": 26,
   "metadata": {},
   "outputs": [
    {
     "data": {
      "text/html": [
       "<div>\n",
       "<style scoped>\n",
       "    .dataframe tbody tr th:only-of-type {\n",
       "        vertical-align: middle;\n",
       "    }\n",
       "\n",
       "    .dataframe tbody tr th {\n",
       "        vertical-align: top;\n",
       "    }\n",
       "\n",
       "    .dataframe thead th {\n",
       "        text-align: right;\n",
       "    }\n",
       "</style>\n",
       "<table border=\"1\" class=\"dataframe\">\n",
       "  <thead>\n",
       "    <tr style=\"text-align: right;\">\n",
       "      <th></th>\n",
       "      <th>player_id</th>\n",
       "      <th>Player</th>\n",
       "      <th>Nation</th>\n",
       "      <th>Pos</th>\n",
       "      <th>Squad</th>\n",
       "      <th>Comp</th>\n",
       "      <th>Age</th>\n",
       "      <th>Gls</th>\n",
       "      <th>Ast</th>\n",
       "      <th>G+A</th>\n",
       "      <th>G-PK</th>\n",
       "      <th>G+A-PK</th>\n",
       "      <th>xG</th>\n",
       "      <th>xAG</th>\n",
       "      <th>xG+xAG</th>\n",
       "      <th>npxG</th>\n",
       "      <th>npxG+xAG</th>\n",
       "    </tr>\n",
       "  </thead>\n",
       "  <tbody>\n",
       "    <tr>\n",
       "      <th>0</th>\n",
       "      <td>1000</td>\n",
       "      <td>Brenden Aaronson</td>\n",
       "      <td>USA</td>\n",
       "      <td>MF</td>\n",
       "      <td>Union Berlin</td>\n",
       "      <td>Bundesliga</td>\n",
       "      <td>22</td>\n",
       "      <td>0.0</td>\n",
       "      <td>0.0</td>\n",
       "      <td>0.0</td>\n",
       "      <td>0.0</td>\n",
       "      <td>0.0</td>\n",
       "      <td>0.01</td>\n",
       "      <td>0.09</td>\n",
       "      <td>0.11</td>\n",
       "      <td>0.01</td>\n",
       "      <td>0.11</td>\n",
       "    </tr>\n",
       "    <tr>\n",
       "      <th>1</th>\n",
       "      <td>1001</td>\n",
       "      <td>Salis Abdul Samed</td>\n",
       "      <td>GHA</td>\n",
       "      <td>MF</td>\n",
       "      <td>Lens</td>\n",
       "      <td>Ligue 1</td>\n",
       "      <td>23</td>\n",
       "      <td>0.0</td>\n",
       "      <td>0.0</td>\n",
       "      <td>0.0</td>\n",
       "      <td>0.0</td>\n",
       "      <td>0.0</td>\n",
       "      <td>0.03</td>\n",
       "      <td>0.03</td>\n",
       "      <td>0.05</td>\n",
       "      <td>0.03</td>\n",
       "      <td>0.05</td>\n",
       "    </tr>\n",
       "    <tr>\n",
       "      <th>2</th>\n",
       "      <td>1002</td>\n",
       "      <td>Francesco Acerbi</td>\n",
       "      <td>ITA</td>\n",
       "      <td>DF</td>\n",
       "      <td>Inter</td>\n",
       "      <td>Serie A</td>\n",
       "      <td>35</td>\n",
       "      <td>0.0</td>\n",
       "      <td>0.0</td>\n",
       "      <td>0.0</td>\n",
       "      <td>0.0</td>\n",
       "      <td>0.0</td>\n",
       "      <td>0.11</td>\n",
       "      <td>0.00</td>\n",
       "      <td>0.11</td>\n",
       "      <td>0.11</td>\n",
       "      <td>0.11</td>\n",
       "    </tr>\n",
       "    <tr>\n",
       "      <th>3</th>\n",
       "      <td>1003</td>\n",
       "      <td>Marcos Acuña</td>\n",
       "      <td>ARG</td>\n",
       "      <td>DF</td>\n",
       "      <td>Sevilla</td>\n",
       "      <td>La Liga</td>\n",
       "      <td>31</td>\n",
       "      <td>0.0</td>\n",
       "      <td>0.0</td>\n",
       "      <td>0.0</td>\n",
       "      <td>0.0</td>\n",
       "      <td>0.0</td>\n",
       "      <td>0.04</td>\n",
       "      <td>0.06</td>\n",
       "      <td>0.10</td>\n",
       "      <td>0.04</td>\n",
       "      <td>0.10</td>\n",
       "    </tr>\n",
       "    <tr>\n",
       "      <th>4</th>\n",
       "      <td>1004</td>\n",
       "      <td>Karim Adeyemi</td>\n",
       "      <td>GER</td>\n",
       "      <td>FW,MF</td>\n",
       "      <td>Dortmund</td>\n",
       "      <td>Bundesliga</td>\n",
       "      <td>21</td>\n",
       "      <td>0.0</td>\n",
       "      <td>0.0</td>\n",
       "      <td>0.0</td>\n",
       "      <td>0.0</td>\n",
       "      <td>0.0</td>\n",
       "      <td>0.43</td>\n",
       "      <td>0.05</td>\n",
       "      <td>0.48</td>\n",
       "      <td>0.43</td>\n",
       "      <td>0.48</td>\n",
       "    </tr>\n",
       "  </tbody>\n",
       "</table>\n",
       "</div>"
      ],
      "text/plain": [
       "   player_id             Player Nation    Pos         Squad        Comp  Age  \\\n",
       "0       1000   Brenden Aaronson    USA     MF  Union Berlin  Bundesliga   22   \n",
       "1       1001  Salis Abdul Samed    GHA     MF          Lens     Ligue 1   23   \n",
       "2       1002   Francesco Acerbi    ITA     DF         Inter     Serie A   35   \n",
       "3       1003       Marcos Acuña    ARG     DF       Sevilla     La Liga   31   \n",
       "4       1004      Karim Adeyemi    GER  FW,MF      Dortmund  Bundesliga   21   \n",
       "\n",
       "   Gls  Ast  G+A  G-PK  G+A-PK    xG   xAG  xG+xAG  npxG  npxG+xAG  \n",
       "0  0.0  0.0  0.0   0.0     0.0  0.01  0.09    0.11  0.01      0.11  \n",
       "1  0.0  0.0  0.0   0.0     0.0  0.03  0.03    0.05  0.03      0.05  \n",
       "2  0.0  0.0  0.0   0.0     0.0  0.11  0.00    0.11  0.11      0.11  \n",
       "3  0.0  0.0  0.0   0.0     0.0  0.04  0.06    0.10  0.04      0.10  \n",
       "4  0.0  0.0  0.0   0.0     0.0  0.43  0.05    0.48  0.43      0.48  "
      ]
     },
     "execution_count": 26,
     "metadata": {},
     "output_type": "execute_result"
    }
   ],
   "source": [
    "df_test = pd.read_csv('../../data/final/2023.csv').drop(columns=['Unnamed: 0'])\n",
    "\n",
    "df_test.head()"
   ]
  },
  {
   "cell_type": "code",
   "execution_count": 27,
   "metadata": {},
   "outputs": [
    {
     "name": "stdout",
     "output_type": "stream",
     "text": [
      "(732, 5)\n"
     ]
    }
   ],
   "source": [
    "reference_data_new = df_test[['player_id', 'Player', 'Nation', 'Pos', 'Squad', 'Comp', 'Age']]\n",
    "X_new = df_test.drop(columns=['player_id', 'Player', 'Nation', 'Pos', 'Squad', 'Comp', 'Age', 'Gls', 'Ast', 'xAG', 'npxG+xAG', 'npxG'])\n",
    "\n",
    "print(X_new.shape)"
   ]
  },
  {
   "cell_type": "code",
   "execution_count": 28,
   "metadata": {},
   "outputs": [
    {
     "name": "stdout",
     "output_type": "stream",
     "text": [
      "23/23 [==============================] - 0s 454us/step\n"
     ]
    }
   ],
   "source": [
    "predictions = model.predict(X_new)\n",
    "results = pd.concat([reference_data_new, pd.DataFrame(predictions, columns=['Predicted_Gls'])], axis=1)\n",
    "results['Predicted_Gls'] = results['Predicted_Gls'].apply(lambda x: max(0, x))\n"
   ]
  },
  {
   "cell_type": "code",
   "execution_count": 29,
   "metadata": {},
   "outputs": [],
   "source": [
    "results.sort_values(by=['Predicted_Gls'], ascending=False).head(20)\n",
    "results.to_csv('../../data/final/results.csv')"
   ]
  },
  {
   "cell_type": "code",
   "execution_count": null,
   "metadata": {},
   "outputs": [],
   "source": []
  }
 ],
 "metadata": {
  "kernelspec": {
   "display_name": "Python 3",
   "language": "python",
   "name": "python3"
  },
  "language_info": {
   "codemirror_mode": {
    "name": "ipython",
    "version": 3
   },
   "file_extension": ".py",
   "mimetype": "text/x-python",
   "name": "python",
   "nbconvert_exporter": "python",
   "pygments_lexer": "ipython3",
   "version": "3.9.6"
  }
 },
 "nbformat": 4,
 "nbformat_minor": 2
}
